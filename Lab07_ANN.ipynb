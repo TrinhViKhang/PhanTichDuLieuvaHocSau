{
  "nbformat": 4,
  "nbformat_minor": 0,
  "metadata": {
    "colab": {
      "name": "Lab07_ANN.ipynb",
      "provenance": [],
      "authorship_tag": "ABX9TyMBmN1OAmZcKFJ1PuGT0eIK",
      "include_colab_link": true
    },
    "kernelspec": {
      "name": "python3",
      "display_name": "Python 3"
    },
    "language_info": {
      "name": "python"
    }
  },
  "cells": [
    {
      "cell_type": "markdown",
      "metadata": {
        "id": "view-in-github",
        "colab_type": "text"
      },
      "source": [
        "<a href=\"https://colab.research.google.com/github/TrinhViKhang/PhanTichDuLieuvaHocSau/blob/main/Lab07_ANN.ipynb\" target=\"_parent\"><img src=\"https://colab.research.google.com/assets/colab-badge.svg\" alt=\"Open In Colab\"/></a>"
      ]
    },
    {
      "cell_type": "code",
      "metadata": {
        "id": "DUsIH66uJ5jb"
      },
      "source": [
        "import numpy as np\n",
        "# hàm này để hiển thị các tấm ảnh \n",
        "import matplotlib.pyplot as plt\n",
        "# để chọn ngẫu nhiên các tấm ảnh\n",
        "import random\n",
        "# để load dữ liệu trong tập mẫu\n",
        "from keras.datasets import mnist\n",
        "# các hàm sau để xây dựng mô hình mạng neural \n",
        "# thêm 1 lớp, thêm hàm kích hoạt activation\n",
        "from keras.models import Sequential\n",
        "from keras.utils import np_utils\n",
        "from keras.layers.core import Dense,Activation"
      ],
      "execution_count": 1,
      "outputs": []
    },
    {
      "cell_type": "code",
      "metadata": {
        "colab": {
          "base_uri": "https://localhost:8080/",
          "height": 204
        },
        "id": "Gz6liOClKX_5",
        "outputId": "55b31b05-f000-44c0-bf73-212ddf1a3af2"
      },
      "source": [
        "import pandas as pd\n",
        "data = pd.read_csv(\"https://raw.githubusercontent.com/huynhhoc/DataAnalystDeepLearning/main/Data/carpricesdata.csv\")\n",
        "\n",
        "data.head(5)"
      ],
      "execution_count": 2,
      "outputs": [
        {
          "output_type": "execute_result",
          "data": {
            "text/html": [
              "<div>\n",
              "<style scoped>\n",
              "    .dataframe tbody tr th:only-of-type {\n",
              "        vertical-align: middle;\n",
              "    }\n",
              "\n",
              "    .dataframe tbody tr th {\n",
              "        vertical-align: top;\n",
              "    }\n",
              "\n",
              "    .dataframe thead th {\n",
              "        text-align: right;\n",
              "    }\n",
              "</style>\n",
              "<table border=\"1\" class=\"dataframe\">\n",
              "  <thead>\n",
              "    <tr style=\"text-align: right;\">\n",
              "      <th></th>\n",
              "      <th>Age</th>\n",
              "      <th>KM</th>\n",
              "      <th>Weight</th>\n",
              "      <th>HP</th>\n",
              "      <th>MetColor</th>\n",
              "      <th>CC</th>\n",
              "      <th>Doors</th>\n",
              "      <th>Price</th>\n",
              "    </tr>\n",
              "  </thead>\n",
              "  <tbody>\n",
              "    <tr>\n",
              "      <th>0</th>\n",
              "      <td>23</td>\n",
              "      <td>46986</td>\n",
              "      <td>1165</td>\n",
              "      <td>90</td>\n",
              "      <td>1</td>\n",
              "      <td>2000</td>\n",
              "      <td>3</td>\n",
              "      <td>13500</td>\n",
              "    </tr>\n",
              "    <tr>\n",
              "      <th>1</th>\n",
              "      <td>23</td>\n",
              "      <td>72937</td>\n",
              "      <td>1165</td>\n",
              "      <td>90</td>\n",
              "      <td>1</td>\n",
              "      <td>2000</td>\n",
              "      <td>3</td>\n",
              "      <td>13500</td>\n",
              "    </tr>\n",
              "    <tr>\n",
              "      <th>2</th>\n",
              "      <td>24</td>\n",
              "      <td>41711</td>\n",
              "      <td>1165</td>\n",
              "      <td>90</td>\n",
              "      <td>1</td>\n",
              "      <td>2000</td>\n",
              "      <td>3</td>\n",
              "      <td>13950</td>\n",
              "    </tr>\n",
              "    <tr>\n",
              "      <th>3</th>\n",
              "      <td>26</td>\n",
              "      <td>48000</td>\n",
              "      <td>1165</td>\n",
              "      <td>90</td>\n",
              "      <td>0</td>\n",
              "      <td>2000</td>\n",
              "      <td>3</td>\n",
              "      <td>14950</td>\n",
              "    </tr>\n",
              "    <tr>\n",
              "      <th>4</th>\n",
              "      <td>30</td>\n",
              "      <td>38500</td>\n",
              "      <td>1170</td>\n",
              "      <td>90</td>\n",
              "      <td>0</td>\n",
              "      <td>2000</td>\n",
              "      <td>3</td>\n",
              "      <td>13750</td>\n",
              "    </tr>\n",
              "  </tbody>\n",
              "</table>\n",
              "</div>"
            ],
            "text/plain": [
              "   Age     KM  Weight  HP  MetColor    CC  Doors  Price\n",
              "0   23  46986    1165  90         1  2000      3  13500\n",
              "1   23  72937    1165  90         1  2000      3  13500\n",
              "2   24  41711    1165  90         1  2000      3  13950\n",
              "3   26  48000    1165  90         0  2000      3  14950\n",
              "4   30  38500    1170  90         0  2000      3  13750"
            ]
          },
          "metadata": {},
          "execution_count": 2
        }
      ]
    },
    {
      "cell_type": "code",
      "metadata": {
        "colab": {
          "base_uri": "https://localhost:8080/"
        },
        "id": "BpFmh-AvKsHY",
        "outputId": "35d6d84c-0d62-4b0b-a52a-0b58cb16d2b8"
      },
      "source": [
        "Preditors = ['Age', 'KM', 'Weight', 'HP', 'MetColor', 'CC', 'Doors']\n",
        "TargetVariable =['Price']\n",
        "\n",
        "\n",
        "X = pd.DataFrame(data, columns = Preditors)\n",
        "y = pd.DataFrame(data, columns = TargetVariable)\n",
        "\n",
        "model= Sequential()\n",
        "#add vào 1 lớp input,có 10 neural(10 neural) và mỗi neural có 784 input\n",
        "model.add(Dense(5,input_dim=7,kernel_initializer='normal'))\n",
        "model.add(Activation('relu'))\n",
        "\n",
        "# add lớp hidden sẽ tự động lấy đầu vào của lớp đầu, giá trị hiden có thể thay đổi\n",
        "model.add(Dense(5,kernel_initializer='normal'))\n",
        "model.add(Activation('relu'))\n",
        "\n",
        "# add vào lớp đầu ra, bắt buộc là 10 vì số từ 0->9 là 10 số\n",
        "model.add(Dense(1,kernel_initializer='normal'))\n",
        "# dùng hàm softmax vì đầu ra là 10 lớp (nhận dạng số 0-9)\n",
        "# Với các bài toán classification (phân loại) thì nếu có 2 lớp thì hàm activation ở output layer là hàm sigmoid, \n",
        "# còn nhiều hơn 2 lớp thì hàm activation ở ouput layer là hàm softmax\n",
        "model.add(Activation('softmax'))\n",
        "model.summary()"
      ],
      "execution_count": 3,
      "outputs": [
        {
          "output_type": "stream",
          "name": "stdout",
          "text": [
            "Model: \"sequential\"\n",
            "_________________________________________________________________\n",
            " Layer (type)                Output Shape              Param #   \n",
            "=================================================================\n",
            " dense (Dense)               (None, 5)                 40        \n",
            "                                                                 \n",
            " activation (Activation)     (None, 5)                 0         \n",
            "                                                                 \n",
            " dense_1 (Dense)             (None, 5)                 30        \n",
            "                                                                 \n",
            " activation_1 (Activation)   (None, 5)                 0         \n",
            "                                                                 \n",
            " dense_2 (Dense)             (None, 1)                 6         \n",
            "                                                                 \n",
            " activation_2 (Activation)   (None, 1)                 0         \n",
            "                                                                 \n",
            "=================================================================\n",
            "Total params: 76\n",
            "Trainable params: 76\n",
            "Non-trainable params: 0\n",
            "_________________________________________________________________\n"
          ]
        }
      ]
    },
    {
      "cell_type": "code",
      "metadata": {
        "colab": {
          "base_uri": "https://localhost:8080/"
        },
        "id": "vxQrIW0rLS39",
        "outputId": "3578f9a5-87de-4c69-cfe0-dc451b850d77"
      },
      "source": [
        "model.compile(loss='mean_squared_error',optimizer='adam',metrics=['accuracy'])\n",
        "\n",
        "### Sandardization of data ###\n",
        "from sklearn.preprocessing import StandardScaler\n",
        "PredictorScaler=StandardScaler()\n",
        "TargetVarScaler=StandardScaler()\n",
        "\n",
        "# Storing the fit object for later reference\n",
        "PredictorScalerFit=PredictorScaler.fit(X)\n",
        "TargetVarScalerFit=TargetVarScaler.fit(y)\n",
        "\n",
        "# Generating the standardized values of X and y\n",
        "X=PredictorScalerFit.transform(X)\n",
        "y=TargetVarScalerFit.transform(y)\n",
        "\n",
        "# Split the data into training and testing set\n",
        "from sklearn.model_selection import train_test_split\n",
        "X_train, X_test, y_train, y_test = train_test_split(X, y, test_size=0.3, random_state=42)\n",
        "\n",
        "history = model.fit(X_train,y_train,batch_size=20,epochs=5, verbose=1)"
      ],
      "execution_count": 4,
      "outputs": [
        {
          "output_type": "stream",
          "name": "stdout",
          "text": [
            "Epoch 1/5\n",
            "1/1 [==============================] - 1s 921ms/step - loss: 1.6587 - accuracy: 0.0000e+00\n",
            "Epoch 2/5\n",
            "1/1 [==============================] - 0s 8ms/step - loss: 1.6587 - accuracy: 0.0000e+00\n",
            "Epoch 3/5\n",
            "1/1 [==============================] - 0s 10ms/step - loss: 1.6587 - accuracy: 0.0000e+00\n",
            "Epoch 4/5\n",
            "1/1 [==============================] - 0s 7ms/step - loss: 1.6587 - accuracy: 0.0000e+00\n",
            "Epoch 5/5\n",
            "1/1 [==============================] - 0s 6ms/step - loss: 1.6587 - accuracy: 0.0000e+00\n"
          ]
        }
      ]
    },
    {
      "cell_type": "code",
      "metadata": {
        "colab": {
          "base_uri": "https://localhost:8080/",
          "height": 111
        },
        "id": "s9OCbzoILbSk",
        "outputId": "ae777f72-2be1-423f-9f17-2658a48c4d1d"
      },
      "source": [
        "# giá trị thực tế được lưu ở tập t_test\n",
        "predicted_price=model.predict(X_test)\n",
        "\n",
        "# Scaling the predicted Price data back to original price scale\n",
        "predicted_price=TargetVarScalerFit.inverse_transform(predicted_price)\n",
        "\n",
        "# Scaling the y_test Price data back to original price scale\n",
        "y_test_orig=TargetVarScalerFit.inverse_transform(y_test)\n",
        "\n",
        "# Scaling the test data back to original scale\n",
        "Test_Data=PredictorScalerFit.inverse_transform(X_test)\n",
        "\n",
        "TestData = pd.DataFrame(data = Test_Data, columns=Preditors)\n",
        "TestData['Price']=y_test_orig\n",
        "TestData['PredictedPrice']=predicted_price\n",
        "\n",
        "TestData"
      ],
      "execution_count": 5,
      "outputs": [
        {
          "output_type": "execute_result",
          "data": {
            "text/html": [
              "<div>\n",
              "<style scoped>\n",
              "    .dataframe tbody tr th:only-of-type {\n",
              "        vertical-align: middle;\n",
              "    }\n",
              "\n",
              "    .dataframe tbody tr th {\n",
              "        vertical-align: top;\n",
              "    }\n",
              "\n",
              "    .dataframe thead th {\n",
              "        text-align: right;\n",
              "    }\n",
              "</style>\n",
              "<table border=\"1\" class=\"dataframe\">\n",
              "  <thead>\n",
              "    <tr style=\"text-align: right;\">\n",
              "      <th></th>\n",
              "      <th>Age</th>\n",
              "      <th>KM</th>\n",
              "      <th>Weight</th>\n",
              "      <th>HP</th>\n",
              "      <th>MetColor</th>\n",
              "      <th>CC</th>\n",
              "      <th>Doors</th>\n",
              "      <th>Price</th>\n",
              "      <th>PredictedPrice</th>\n",
              "    </tr>\n",
              "  </thead>\n",
              "  <tbody>\n",
              "    <tr>\n",
              "      <th>0</th>\n",
              "      <td>23.0</td>\n",
              "      <td>72937.0</td>\n",
              "      <td>1165.0</td>\n",
              "      <td>90.0</td>\n",
              "      <td>1.0</td>\n",
              "      <td>2000.0</td>\n",
              "      <td>3.0</td>\n",
              "      <td>13500.0</td>\n",
              "      <td>14467.214844</td>\n",
              "    </tr>\n",
              "    <tr>\n",
              "      <th>1</th>\n",
              "      <td>30.0</td>\n",
              "      <td>38500.0</td>\n",
              "      <td>1170.0</td>\n",
              "      <td>90.0</td>\n",
              "      <td>0.0</td>\n",
              "      <td>2000.0</td>\n",
              "      <td>3.0</td>\n",
              "      <td>13750.0</td>\n",
              "      <td>14467.214844</td>\n",
              "    </tr>\n",
              "  </tbody>\n",
              "</table>\n",
              "</div>"
            ],
            "text/plain": [
              "    Age       KM  Weight    HP  ...      CC  Doors    Price  PredictedPrice\n",
              "0  23.0  72937.0  1165.0  90.0  ...  2000.0    3.0  13500.0    14467.214844\n",
              "1  30.0  38500.0  1170.0  90.0  ...  2000.0    3.0  13750.0    14467.214844\n",
              "\n",
              "[2 rows x 9 columns]"
            ]
          },
          "metadata": {},
          "execution_count": 5
        }
      ]
    }
  ]
}