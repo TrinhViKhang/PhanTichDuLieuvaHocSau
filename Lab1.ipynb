{
  "nbformat": 4,
  "nbformat_minor": 0,
  "metadata": {
    "colab": {
      "name": "Lab1.ipynb",
      "provenance": [],
      "authorship_tag": "ABX9TyOlj4/Ydn7TmqzhOlPMwUVv",
      "include_colab_link": true
    },
    "kernelspec": {
      "name": "python3",
      "display_name": "Python 3"
    },
    "language_info": {
      "name": "python"
    }
  },
  "cells": [
    {
      "cell_type": "markdown",
      "metadata": {
        "id": "view-in-github",
        "colab_type": "text"
      },
      "source": [
        "<a href=\"https://colab.research.google.com/github/TrinhViKhang/PhanTichDuLieuvaHocSau/blob/main/Lab1.ipynb\" target=\"_parent\"><img src=\"https://colab.research.google.com/assets/colab-badge.svg\" alt=\"Open In Colab\"/></a>"
      ]
    },
    {
      "cell_type": "markdown",
      "metadata": {
        "id": "cUtzS9_epw_V"
      },
      "source": [
        "Example 1:"
      ]
    },
    {
      "cell_type": "code",
      "metadata": {
        "colab": {
          "base_uri": "https://localhost:8080/"
        },
        "id": "orL_ZdECp4fZ",
        "outputId": "f6ece1ac-fa51-4b0c-853e-01849840e1a3"
      },
      "source": [
        "\n",
        "import pandas as pd\n",
        "s = pd.Series([12,-4,7,9])\n",
        "print (s)"
      ],
      "execution_count": 5,
      "outputs": [
        {
          "output_type": "stream",
          "name": "stdout",
          "text": [
            "0    12\n",
            "1    -4\n",
            "2     7\n",
            "3     9\n",
            "dtype: int64\n"
          ]
        }
      ]
    },
    {
      "cell_type": "markdown",
      "metadata": {
        "id": "dnes4_3vqG4c"
      },
      "source": [
        "Example 2:"
      ]
    },
    {
      "cell_type": "code",
      "metadata": {
        "colab": {
          "base_uri": "https://localhost:8080/"
        },
        "id": "giTmylhgqLg1",
        "outputId": "6dde2550-1dd0-4cda-ba8a-f7b1070fac6d"
      },
      "source": [
        "import pandas as pd\n",
        "s = pd.Series([12,-4,7,9], index=['a', 'b', 'c', 'd'])\n",
        "print (s)"
      ],
      "execution_count": 7,
      "outputs": [
        {
          "output_type": "stream",
          "name": "stdout",
          "text": [
            "a    12\n",
            "b    -4\n",
            "c     7\n",
            "d     9\n",
            "dtype: int64\n"
          ]
        }
      ]
    },
    {
      "cell_type": "code",
      "metadata": {
        "colab": {
          "base_uri": "https://localhost:8080/"
        },
        "id": "SBPryK6bqWiz",
        "outputId": "542b4816-2008-46fd-bc8e-8f1f8089a8e2"
      },
      "source": [
        "s.values"
      ],
      "execution_count": 8,
      "outputs": [
        {
          "output_type": "execute_result",
          "data": {
            "text/plain": [
              "array([12, -4,  7,  9])"
            ]
          },
          "metadata": {},
          "execution_count": 8
        }
      ]
    },
    {
      "cell_type": "code",
      "metadata": {
        "colab": {
          "base_uri": "https://localhost:8080/"
        },
        "id": "nl0KcZFQtfc9",
        "outputId": "69d785a9-4d60-40ee-db61-01ba4044a5c3"
      },
      "source": [
        "s.index"
      ],
      "execution_count": 10,
      "outputs": [
        {
          "output_type": "execute_result",
          "data": {
            "text/plain": [
              "Index(['a', 'b', 'c', 'd'], dtype='object')"
            ]
          },
          "metadata": {},
          "execution_count": 10
        }
      ]
    }
  ]
}